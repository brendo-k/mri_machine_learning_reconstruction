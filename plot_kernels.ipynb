{
 "cells": [
  {
   "cell_type": "code",
   "execution_count": 1,
   "metadata": {},
   "outputs": [],
   "source": [
    "from ml_recon.pl_modules.pl_varnet import pl_VarNet\n",
    "import torch\n",
    "import matplotlib.pyplot as plt"
   ]
  },
  {
   "cell_type": "code",
   "execution_count": 18,
   "metadata": {},
   "outputs": [
    {
     "name": "stdout",
     "output_type": "stream",
     "text": [
      "No image space loss!!\n",
      "No image space loss!!\n"
     ]
    }
   ],
   "source": [
    "model = pl_VarNet.load_from_checkpoint(\"/home/brenden/Documents/code/python/mri_machine_learning_reconstruction/artifacts/model-eavr9y1o:v0/model.ckpt\")\n",
    "sc_model = pl_VarNet.load_from_checkpoint(\"artifacts/model-qz37jqqx:v0/model.ckpt\")"
   ]
  },
  {
   "cell_type": "code",
   "execution_count": 20,
   "metadata": {},
   "outputs": [],
   "source": [
    "Unets = model.model\n",
    "sc_unets = sc_model.model"
   ]
  },
  {
   "cell_type": "code",
   "execution_count": 21,
   "metadata": {},
   "outputs": [],
   "source": [
    "parameters = [pram for pram in Unets.cascades[0].model.down_sample_layers[0].layers[0].parameters()]\n",
    "sc_param = [x for x in sc_unets.cascades[0].model.down_sample_layers[0].layers[0].parameters()]"
   ]
  },
  {
   "cell_type": "code",
   "execution_count": 5,
   "metadata": {},
   "outputs": [
    {
     "data": {
      "text/plain": [
       "torch.Size([32, 6, 3, 3])"
      ]
     },
     "execution_count": 5,
     "metadata": {},
     "output_type": "execute_result"
    }
   ],
   "source": [
    "parameters[0].shape"
   ]
  },
  {
   "cell_type": "code",
   "execution_count": 6,
   "metadata": {},
   "outputs": [],
   "source": [
    "parameters = parameters[0].cpu()"
   ]
  },
  {
   "cell_type": "code",
   "execution_count": 22,
   "metadata": {},
   "outputs": [],
   "source": [
    "sc_params = sc_param[0].cpu()"
   ]
  },
  {
   "cell_type": "code",
   "execution_count": 27,
   "metadata": {},
   "outputs": [
    {
     "data": {
      "text/plain": [
       "tensor([[[[ 0.0369,  0.4006,  0.3590],\n",
       "          [-0.0824,  0.0528,  0.0895],\n",
       "          [ 0.2097, -0.3480, -0.0096]],\n",
       "\n",
       "         [[-0.0727,  0.2159,  0.0834],\n",
       "          [-0.0812, -0.1306, -0.1880],\n",
       "          [ 0.0958,  0.0947, -0.0860]]],\n",
       "\n",
       "\n",
       "        [[[-0.0957, -0.2690, -0.2209],\n",
       "          [ 0.0189, -0.3243,  0.0968],\n",
       "          [ 0.1981, -0.2076, -0.0706]],\n",
       "\n",
       "         [[ 0.0370,  0.0863,  0.0257],\n",
       "          [-0.1069, -0.0673, -0.1889],\n",
       "          [ 0.0417,  0.0027,  0.1923]]],\n",
       "\n",
       "\n",
       "        [[[ 0.0034,  0.1812, -0.2714],\n",
       "          [-0.0991,  0.3169,  0.2128],\n",
       "          [ 0.0493, -0.1871,  0.1510]],\n",
       "\n",
       "         [[ 0.1083, -0.0641, -0.0092],\n",
       "          [-0.0963,  0.0536, -0.0654],\n",
       "          [ 0.0474,  0.0457,  0.0248]]],\n",
       "\n",
       "\n",
       "        [[[ 0.0052, -0.1095, -0.0903],\n",
       "          [ 0.0193, -0.3295, -0.4675],\n",
       "          [-0.0387, -0.2496, -0.3568]],\n",
       "\n",
       "         [[-0.0424,  0.0395, -0.1830],\n",
       "          [ 0.0644,  0.1986, -0.0562],\n",
       "          [-0.1570,  0.1126, -0.0087]]],\n",
       "\n",
       "\n",
       "        [[[ 0.2300, -0.1031, -0.2446],\n",
       "          [-0.0556, -0.5050, -0.2392],\n",
       "          [-0.0152,  0.2103,  0.1014]],\n",
       "\n",
       "         [[-0.0913, -0.0022, -0.0192],\n",
       "          [ 0.0591,  0.1006, -0.1082],\n",
       "          [-0.0161, -0.0222,  0.1249]]],\n",
       "\n",
       "\n",
       "        [[[-0.1619,  0.2195, -0.2812],\n",
       "          [ 0.3978,  0.1759,  0.2103],\n",
       "          [ 0.2381, -0.1920, -0.1387]],\n",
       "\n",
       "         [[ 0.0601, -0.1080,  0.0727],\n",
       "          [ 0.0311, -0.0853, -0.0575],\n",
       "          [ 0.0766,  0.0317, -0.0367]]],\n",
       "\n",
       "\n",
       "        [[[-0.1317, -0.4379,  0.1797],\n",
       "          [-0.3833, -0.3421, -0.0668],\n",
       "          [ 0.1009,  0.0137,  0.0796]],\n",
       "\n",
       "         [[ 0.0717,  0.0794,  0.0646],\n",
       "          [-0.0787,  0.0177, -0.0997],\n",
       "          [ 0.1092, -0.0461, -0.1143]]],\n",
       "\n",
       "\n",
       "        [[[ 0.0199,  0.1188, -0.1319],\n",
       "          [-0.1589, -0.0639,  0.1048],\n",
       "          [-0.2132, -0.0891, -0.0316]],\n",
       "\n",
       "         [[-0.0371,  0.0731, -0.0361],\n",
       "          [ 0.0256, -0.1399, -0.0394],\n",
       "          [ 0.1016,  0.0501, -0.0350]]],\n",
       "\n",
       "\n",
       "        [[[-0.0339, -0.0543,  0.0467],\n",
       "          [ 0.3248,  0.1897, -0.2200],\n",
       "          [-0.1268, -0.1086,  0.2310]],\n",
       "\n",
       "         [[-0.0136,  0.0520, -0.0177],\n",
       "          [ 0.0634, -0.0333,  0.0107],\n",
       "          [-0.0959,  0.0999, -0.0958]]],\n",
       "\n",
       "\n",
       "        [[[-0.2713,  0.0475, -0.0577],\n",
       "          [ 0.1422,  0.4163, -0.0452],\n",
       "          [-0.0342,  0.2669, -0.0063]],\n",
       "\n",
       "         [[ 0.0626,  0.0537, -0.0814],\n",
       "          [-0.2027,  0.0819, -0.0165],\n",
       "          [ 0.1386, -0.0979,  0.0644]]],\n",
       "\n",
       "\n",
       "        [[[ 0.0364,  0.2316,  0.0113],\n",
       "          [-0.2520,  0.3455,  0.0860],\n",
       "          [-0.1422,  0.1856, -0.0336]],\n",
       "\n",
       "         [[-0.0100, -0.0650,  0.0313],\n",
       "          [-0.0306,  0.1620, -0.0351],\n",
       "          [ 0.0509, -0.1383,  0.0365]]],\n",
       "\n",
       "\n",
       "        [[[ 0.2143, -0.0118, -0.0033],\n",
       "          [-0.0410, -0.1854, -0.1948],\n",
       "          [ 0.2303, -0.1804, -0.2754]],\n",
       "\n",
       "         [[ 0.0030,  0.0128,  0.0649],\n",
       "          [-0.0408,  0.0117,  0.0811],\n",
       "          [ 0.0540, -0.1140, -0.0846]]],\n",
       "\n",
       "\n",
       "        [[[-0.1738,  0.3224, -0.1953],\n",
       "          [ 0.2436,  0.1792,  0.1799],\n",
       "          [-0.2187,  0.0696, -0.1366]],\n",
       "\n",
       "         [[ 0.0304, -0.0637,  0.0646],\n",
       "          [ 0.0103, -0.0733,  0.0381],\n",
       "          [-0.0570,  0.0647, -0.0057]]],\n",
       "\n",
       "\n",
       "        [[[ 0.2501,  0.3838,  0.1264],\n",
       "          [-0.0812,  0.2276,  0.4339],\n",
       "          [-0.1245, -0.1439,  0.0414]],\n",
       "\n",
       "         [[-0.0299, -0.0590,  0.0231],\n",
       "          [-0.1140,  0.0759, -0.1783],\n",
       "          [ 0.0496,  0.1203,  0.1209]]],\n",
       "\n",
       "\n",
       "        [[[-0.2787, -0.3909, -0.0773],\n",
       "          [-0.4888, -0.2411,  0.0872],\n",
       "          [-0.1955,  0.0021,  0.1020]],\n",
       "\n",
       "         [[-0.1935,  0.1143, -0.0793],\n",
       "          [ 0.1000, -0.0262,  0.1957],\n",
       "          [-0.0152, -0.2071,  0.1089]]],\n",
       "\n",
       "\n",
       "        [[[ 0.0442, -0.4171, -0.1624],\n",
       "          [-0.1331,  0.1979, -0.0482],\n",
       "          [ 0.0463, -0.1748,  0.1645]],\n",
       "\n",
       "         [[-0.0398, -0.1224, -0.0070],\n",
       "          [ 0.0150,  0.0736, -0.0366],\n",
       "          [ 0.0371, -0.0080,  0.0769]]],\n",
       "\n",
       "\n",
       "        [[[-0.2069, -0.1627, -0.0739],\n",
       "          [-0.2390, -0.1527, -0.3418],\n",
       "          [-0.2329, -0.0202, -0.1533]],\n",
       "\n",
       "         [[-0.1283,  0.1045,  0.0092],\n",
       "          [ 0.0685, -0.0895, -0.0579],\n",
       "          [ 0.0707,  0.0807, -0.0574]]],\n",
       "\n",
       "\n",
       "        [[[ 0.2118, -0.1748,  0.0143],\n",
       "          [-0.0467, -0.2303,  0.0440],\n",
       "          [-0.1761,  0.0854,  0.0332]],\n",
       "\n",
       "         [[ 0.0908, -0.1361,  0.1106],\n",
       "          [-0.0347, -0.0547, -0.0569],\n",
       "          [ 0.0474,  0.0288,  0.0776]]]], grad_fn=<ToCopyBackward0>)"
      ]
     },
     "execution_count": 27,
     "metadata": {},
     "output_type": "execute_result"
    }
   ],
   "source": [
    "sc_params"
   ]
  },
  {
   "cell_type": "code",
   "execution_count": 35,
   "metadata": {},
   "outputs": [],
   "source": [
    "def plot_conv_weights(param):\n",
    "    output_channels = param.shape[0]\n",
    "    input_channels = param.shape[1]\n",
    "    \n",
    "    reshaped = param.permute(0, 2, 1, 3)\n",
    "\n",
    "\n",
    "    image = reshaped.reshape(output_channels*3, input_channels*3)\n",
    "# Convert to numpy for plotting\n",
    "    image = image.detach().numpy()\n",
    "\n",
    "# Plot the image\n",
    "    fig, ax = plt.subplots(figsize=(12, 12))\n",
    "    ax.imshow(image, cmap=\"gray\")\n",
    "    ax.set_xlabel(\"Features (6 × 3)\")\n",
    "    ax.set_ylabel(\"Dimensions (32 x 3)\")\n",
    "    ax.set_title(\"Tensor Visualization\")\n",
    "\n",
    "# Add grid lines to delineate kernels\n",
    "    rows, cols = param.shape[:2]  # [32, 6]\n",
    "    kernel_size = param.shape[2]  # 3x3 → 3\n",
    "\n",
    "# Horizontal lines (between rows)\n",
    "    for i in range(1, rows):\n",
    "        ax.axhline(i * kernel_size - 0.5, color='red', linewidth=0.8)\n",
    "\n",
    "# Vertical lines (between columns)\n",
    "    for j in range(1, cols):\n",
    "        ax.axvline(j * kernel_size - 0.5, color='red', linewidth=0.8)\n",
    "\n",
    "    plt.colorbar(ax.imshow(image))\n",
    "    plt.show()\n"
   ]
  },
  {
   "cell_type": "code",
   "execution_count": 30,
   "metadata": {},
   "outputs": [
    {
     "data": {
      "text/plain": [
       "torch.Size([18, 2, 3, 3])"
      ]
     },
     "execution_count": 30,
     "metadata": {},
     "output_type": "execute_result"
    }
   ],
   "source": [
    "sc_params.shape"
   ]
  },
  {
   "cell_type": "code",
   "execution_count": 36,
   "metadata": {},
   "outputs": [
    {
     "data": {
      "image/png": "[encoded data removed]",
      "text/plain": [
       "<Figure size 1200x1200 with 2 Axes>"
      ]
     },
     "metadata": {},
     "output_type": "display_data"
    }
   ],
   "source": [
    "plot_conv_weights(sc_params)"
   ]
  }
 ],
 "metadata": {
  "kernelspec": {
   "display_name": "dl",
   "language": "python",
   "name": "python3"
  },
  "language_info": {
   "codemirror_mode": {
    "name": "ipython",
    "version": 3
   },
   "file_extension": ".py",
   "mimetype": "text/x-python",
   "name": "python",
   "nbconvert_exporter": "python",
   "pygments_lexer": "ipython3",
   "version": "3.11.6"
  }
 },
 "nbformat": 4,
 "nbformat_minor": 2
}
