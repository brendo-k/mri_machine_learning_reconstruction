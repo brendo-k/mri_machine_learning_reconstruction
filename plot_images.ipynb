{
 "cells": [
  {
   "cell_type": "code",
   "execution_count": 6,
   "metadata": {},
   "outputs": [],
   "source": [
    "import matplotlib.pyplot as plt\n",
    "import numpy as np\n",
    "from ml_recon.utils import ifft_2d_img, root_sum_of_squares, image_slices\n",
    "import os\n",
    "import h5py"
   ]
  },
  {
   "cell_type": "code",
   "execution_count": 13,
   "metadata": {},
   "outputs": [
    {
     "name": "stdout",
     "output_type": "stream",
     "text": [
      "/home/brenden/Documents/data/simulated_subset_random_phase/train/BraTS2021_00820/BraTS2021_00820.h5\n",
      "/home/brenden/Documents/data/simulated_subset_random_phase/train/BraTS2021_01117/BraTS2021_01117.h5\n",
      "/home/brenden/Documents/data/simulated_subset_random_phase/train/BraTS2021_01067/BraTS2021_01067.h5\n",
      "/home/brenden/Documents/data/simulated_subset_random_phase/train/BraTS2021_00801/BraTS2021_00801.h5\n",
      "/home/brenden/Documents/data/simulated_subset_random_phase/train/BraTS2021_00599/BraTS2021_00599.h5\n",
      "/home/brenden/Documents/data/simulated_subset_random_phase/train/BraTS2021_00133/BraTS2021_00133.h5\n",
      "/home/brenden/Documents/data/simulated_subset_random_phase/train/BraTS2021_01116/BraTS2021_01116.h5\n",
      "/home/brenden/Documents/data/simulated_subset_random_phase/train/BraTS2021_00077/BraTS2021_00077.h5\n",
      "/home/brenden/Documents/data/simulated_subset_random_phase/train/BraTS2021_00642/BraTS2021_00642.h5\n",
      "/home/brenden/Documents/data/simulated_subset_random_phase/train/BraTS2021_00130/BraTS2021_00130.h5\n"
     ]
    }
   ],
   "source": [
    "dir = '/home/brenden/Documents/data/simulated_subset_random_phase/train/'\n",
    "samples = os.listdir(dir)\n",
    "for sample in samples:\n",
    "    files = os.listdir(os.path.join(dir, sample))\n",
    "    file_path = os.path.join(dir, sample, files[0]) \n",
    "    print(file_path)\n",
    "    with h5py.File(file_path) as f:\n",
    "        k_space = f['k_space'][:]\n",
    "        images = root_sum_of_squares(ifft_2d_img(k_space, [-1, -2]), 2)\n",
    "        for i in range(images.shape[0]):\n",
    "            fig, ax = image_slices(images[i], cmap='gray')\n",
    "            plt.savefig(f\"{file_path}_{str(i)}.png\")\n",
    "            plt.close(fig)\n",
    "            \n",
    "    \n"
   ]
  },
  {
   "cell_type": "code",
   "execution_count": null,
   "metadata": {},
   "outputs": [],
   "source": [
    "dir = '/home/brenden/Documents/data/simulated_subset_random_phase/train/'\n",
    "samples = os.listdir(dir)\n",
    "for sample in samples:\n",
    "    files = os.listdir(os.path.join(dir, sample))\n",
    "    file_path = os.path.join(dir, sample, files[0]) \n",
    "    print(file_path)\n",
    "    with h5py.File(file_path) as f:\n",
    "        k_space = f['k_space'][:]\n",
    "        images = root_sum_of_squares(ifft_2d_img(k_space, [-1, -2]), 2)\n",
    "        for i in range(images.shape[0]):\n",
    "            fig, ax = image_slices(images[i], cmap='gray')\n",
    "            plt.savefig(f\"{file_path}_{str(i)}.png\")\n",
    "            plt.close(fig)"
   ]
  }
 ],
 "metadata": {
  "kernelspec": {
   "display_name": "mr_recon",
   "language": "python",
   "name": "python3"
  },
  "language_info": {
   "codemirror_mode": {
    "name": "ipython",
    "version": 3
   },
   "file_extension": ".py",
   "mimetype": "text/x-python",
   "name": "python",
   "nbconvert_exporter": "python",
   "pygments_lexer": "ipython3",
   "version": "3.11.10"
  }
 },
 "nbformat": 4,
 "nbformat_minor": 2
}
